{
  "cells": [
    {
      "cell_type": "markdown",
      "source": [
        "**TIME SERIES DATA FORECASTING FAVOURITA DATASET**\n"
      ],
      "metadata": {
        "id": "DA2Az5PpkSX5"
      },
      "id": "DA2Az5PpkSX5"
    },
    {
      "cell_type": "code",
      "source": [
        "from google.colab import drive\n",
        "drive.mount('/content/drive')"
      ],
      "metadata": {
        "colab": {
          "base_uri": "https://localhost:8080/"
        },
        "id": "qDNlZ7ehqodJ",
        "outputId": "d671af10-3ea2-44ca-e47f-31a8c5d0602c"
      },
      "id": "qDNlZ7ehqodJ",
      "execution_count": 1,
      "outputs": [
        {
          "output_type": "stream",
          "name": "stdout",
          "text": [
            "Mounted at /content/drive\n"
          ]
        }
      ]
    },
    {
      "cell_type": "markdown",
      "source": [
        "Importing necessary libraries\n"
      ],
      "metadata": {
        "id": "vwPFh9KDzH1o"
      },
      "id": "vwPFh9KDzH1o"
    },
    {
      "cell_type": "code",
      "source": [
        "import numpy as np\n",
        "import pandas as pd\n",
        "import matplotlib.pyplot as plt\n",
        "import seaborn as sns\n",
        "import datetime\n",
        "import warnings\n",
        "warnings.filterwarnings('ignore')"
      ],
      "metadata": {
        "id": "YYbrNNs_zHWH"
      },
      "id": "YYbrNNs_zHWH",
      "execution_count": 3,
      "outputs": []
    },
    {
      "cell_type": "markdown",
      "source": [
        "Getting Familarized with the Datasets"
      ],
      "metadata": {
        "id": "4HGqEcIYqJv8"
      },
      "id": "4HGqEcIYqJv8"
    },
    {
      "cell_type": "code",
      "source": [
        "#function to display the details of datasets\n",
        "def details(dataset,datasetname):\n",
        "  print(f\"dimension of {datasetname} {dataset.shape}\")\n",
        "  print(\"=\"*50)\n",
        "  print()\n",
        "  print(dataset.head())\n",
        "  print(\"=\"*50)\n",
        "  print()\n",
        "  print(dataset.info())\n",
        "  print(\"=\"*50)\n",
        "  print()\n",
        "  print(dataset.describe())\n",
        "  print(\"=\"*50)\n",
        "\n"
      ],
      "metadata": {
        "id": "TeZD40-O1Pi_"
      },
      "id": "TeZD40-O1Pi_",
      "execution_count": 20,
      "outputs": []
    },
    {
      "cell_type": "markdown",
      "source": [
        "Detail of oil.csv"
      ],
      "metadata": {
        "id": "YXJDDHzA2NMA"
      },
      "id": "YXJDDHzA2NMA"
    },
    {
      "cell_type": "code",
      "source": [
        "#importing oil dataset from drive and displaying the details\n",
        "oil_df=pd.read_csv(\"/content/drive/MyDrive/data/oil.csv\")\n",
        "details(oil_df,\"oil.csv\")\n"
      ],
      "metadata": {
        "colab": {
          "base_uri": "https://localhost:8080/"
        },
        "id": "elRvTJ1uy8Xy",
        "outputId": "676694a0-b278-43dc-84f6-3189171b552a"
      },
      "id": "elRvTJ1uy8Xy",
      "execution_count": 21,
      "outputs": [
        {
          "output_type": "stream",
          "name": "stdout",
          "text": [
            "dimension of oil.csv (1218, 2)\n",
            "==================================================\n",
            "\n",
            "         date  dcoilwtico\n",
            "0  2013-01-01         NaN\n",
            "1  2013-01-02   93.139999\n",
            "2  2013-01-03   92.970001\n",
            "3  2013-01-04   93.120003\n",
            "4  2013-01-07   93.199997\n",
            "==================================================\n",
            "\n",
            "<class 'pandas.core.frame.DataFrame'>\n",
            "RangeIndex: 1218 entries, 0 to 1217\n",
            "Data columns (total 2 columns):\n",
            " #   Column      Non-Null Count  Dtype  \n",
            "---  ------      --------------  -----  \n",
            " 0   date        1218 non-null   object \n",
            " 1   dcoilwtico  1175 non-null   float64\n",
            "dtypes: float64(1), object(1)\n",
            "memory usage: 19.2+ KB\n",
            "None\n",
            "==================================================\n",
            "\n",
            "        dcoilwtico\n",
            "count  1175.000000\n",
            "mean     67.714366\n",
            "std      25.630476\n",
            "min      26.190001\n",
            "25%      46.405001\n",
            "50%      53.189999\n",
            "75%      95.660000\n",
            "max     110.620003\n",
            "==================================================\n"
          ]
        }
      ]
    },
    {
      "cell_type": "markdown",
      "source": [
        "Details of holiday events.csv"
      ],
      "metadata": {
        "id": "aIZG-fy42SmV"
      },
      "id": "aIZG-fy42SmV"
    },
    {
      "cell_type": "code",
      "source": [
        "holiday_df=pd.read_csv(\"/content/drive/MyDrive/data/holidays_events.csv\")\n",
        "details(holiday_df,\"holiday_events.csv\")\n"
      ],
      "metadata": {
        "id": "ZMJERu7w2Xya",
        "outputId": "115495f5-e9e2-408e-f355-ec82f407c721",
        "colab": {
          "base_uri": "https://localhost:8080/"
        }
      },
      "id": "ZMJERu7w2Xya",
      "execution_count": 22,
      "outputs": [
        {
          "output_type": "stream",
          "name": "stdout",
          "text": [
            "dimension of holiday_events.csv (350, 6)\n",
            "==================================================\n",
            "\n",
            "         date     type    locale locale_name                    description  \\\n",
            "0  2012-03-02  Holiday     Local       Manta             Fundacion de Manta   \n",
            "1  2012-04-01  Holiday  Regional    Cotopaxi  Provincializacion de Cotopaxi   \n",
            "2  2012-04-12  Holiday     Local      Cuenca            Fundacion de Cuenca   \n",
            "3  2012-04-14  Holiday     Local    Libertad      Cantonizacion de Libertad   \n",
            "4  2012-04-21  Holiday     Local    Riobamba      Cantonizacion de Riobamba   \n",
            "\n",
            "   transferred  \n",
            "0        False  \n",
            "1        False  \n",
            "2        False  \n",
            "3        False  \n",
            "4        False  \n",
            "==================================================\n",
            "\n",
            "<class 'pandas.core.frame.DataFrame'>\n",
            "RangeIndex: 350 entries, 0 to 349\n",
            "Data columns (total 6 columns):\n",
            " #   Column       Non-Null Count  Dtype \n",
            "---  ------       --------------  ----- \n",
            " 0   date         350 non-null    object\n",
            " 1   type         350 non-null    object\n",
            " 2   locale       350 non-null    object\n",
            " 3   locale_name  350 non-null    object\n",
            " 4   description  350 non-null    object\n",
            " 5   transferred  350 non-null    bool  \n",
            "dtypes: bool(1), object(5)\n",
            "memory usage: 14.1+ KB\n",
            "None\n",
            "==================================================\n",
            "\n",
            "              date     type    locale locale_name description transferred\n",
            "count          350      350       350         350         350         350\n",
            "unique         312        6         3          24         103           2\n",
            "top     2014-06-25  Holiday  National     Ecuador    Carnaval       False\n",
            "freq             4      221       174         174          10         338\n",
            "==================================================\n"
          ]
        }
      ]
    },
    {
      "cell_type": "markdown",
      "source": [
        "Details of stores.csv\n"
      ],
      "metadata": {
        "id": "vw91qjZ42evu"
      },
      "id": "vw91qjZ42evu"
    },
    {
      "cell_type": "code",
      "source": [
        "stores_df=pd.read_csv(\"/content/drive/MyDrive/data/stores.csv\")\n",
        "details(stores_df,\"stores.csv\")\n"
      ],
      "metadata": {
        "id": "p-5rQL-p2mUX",
        "outputId": "fb8075f8-ed9f-4264-b6fb-abea61f8e634",
        "colab": {
          "base_uri": "https://localhost:8080/"
        }
      },
      "id": "p-5rQL-p2mUX",
      "execution_count": 23,
      "outputs": [
        {
          "output_type": "stream",
          "name": "stdout",
          "text": [
            "dimension of stores.csv (54, 5)\n",
            "==================================================\n",
            "\n",
            "   store_nbr           city                           state type  cluster\n",
            "0          1          Quito                       Pichincha    D       13\n",
            "1          2          Quito                       Pichincha    D       13\n",
            "2          3          Quito                       Pichincha    D        8\n",
            "3          4          Quito                       Pichincha    D        9\n",
            "4          5  Santo Domingo  Santo Domingo de los Tsachilas    D        4\n",
            "==================================================\n",
            "\n",
            "<class 'pandas.core.frame.DataFrame'>\n",
            "RangeIndex: 54 entries, 0 to 53\n",
            "Data columns (total 5 columns):\n",
            " #   Column     Non-Null Count  Dtype \n",
            "---  ------     --------------  ----- \n",
            " 0   store_nbr  54 non-null     int64 \n",
            " 1   city       54 non-null     object\n",
            " 2   state      54 non-null     object\n",
            " 3   type       54 non-null     object\n",
            " 4   cluster    54 non-null     int64 \n",
            "dtypes: int64(2), object(3)\n",
            "memory usage: 2.2+ KB\n",
            "None\n",
            "==================================================\n",
            "\n",
            "       store_nbr    cluster\n",
            "count  54.000000  54.000000\n",
            "mean   27.500000   8.481481\n",
            "std    15.732133   4.693395\n",
            "min     1.000000   1.000000\n",
            "25%    14.250000   4.000000\n",
            "50%    27.500000   8.500000\n",
            "75%    40.750000  13.000000\n",
            "max    54.000000  17.000000\n",
            "==================================================\n"
          ]
        }
      ]
    },
    {
      "cell_type": "markdown",
      "source": [
        "Details of transction.csv\n"
      ],
      "metadata": {
        "id": "-LTcf_PS2uJB"
      },
      "id": "-LTcf_PS2uJB"
    },
    {
      "cell_type": "code",
      "source": [
        "transactions_df=pd.read_csv(\"/content/drive/MyDrive/data/transactions.csv\")\n",
        "details(transactions_df,\"transactions.csv\")\n"
      ],
      "metadata": {
        "id": "XUwOIAFo2tte",
        "outputId": "634142d6-fcf0-4f9f-9c9d-42b63c0d5c3e",
        "colab": {
          "base_uri": "https://localhost:8080/"
        }
      },
      "id": "XUwOIAFo2tte",
      "execution_count": 24,
      "outputs": [
        {
          "output_type": "stream",
          "name": "stdout",
          "text": [
            "dimension of transactions.csv (83488, 3)\n",
            "==================================================\n",
            "\n",
            "         date  store_nbr  transactions\n",
            "0  2013-01-01         25           770\n",
            "1  2013-01-02          1          2111\n",
            "2  2013-01-02          2          2358\n",
            "3  2013-01-02          3          3487\n",
            "4  2013-01-02          4          1922\n",
            "==================================================\n",
            "\n",
            "<class 'pandas.core.frame.DataFrame'>\n",
            "RangeIndex: 83488 entries, 0 to 83487\n",
            "Data columns (total 3 columns):\n",
            " #   Column        Non-Null Count  Dtype \n",
            "---  ------        --------------  ----- \n",
            " 0   date          83488 non-null  object\n",
            " 1   store_nbr     83488 non-null  int64 \n",
            " 2   transactions  83488 non-null  int64 \n",
            "dtypes: int64(2), object(1)\n",
            "memory usage: 1.9+ MB\n",
            "None\n",
            "==================================================\n",
            "\n",
            "          store_nbr  transactions\n",
            "count  83488.000000  83488.000000\n",
            "mean      26.939237   1694.602158\n",
            "std       15.608204    963.286644\n",
            "min        1.000000      5.000000\n",
            "25%       13.000000   1046.000000\n",
            "50%       27.000000   1393.000000\n",
            "75%       40.000000   2079.000000\n",
            "max       54.000000   8359.000000\n",
            "==================================================\n"
          ]
        }
      ]
    },
    {
      "cell_type": "markdown",
      "source": [
        "Details of train.csv"
      ],
      "metadata": {
        "id": "rudBgWKU250B"
      },
      "id": "rudBgWKU250B"
    },
    {
      "cell_type": "code",
      "source": [
        "train_df=pd.read_csv(\"/content/drive/MyDrive/data/train.csv\")\n",
        "details(train_df,\"train.csv\")\n"
      ],
      "metadata": {
        "id": "4I5QVS7-2-a6",
        "outputId": "c10630e6-ba2d-4101-e49c-859427380fb0",
        "colab": {
          "base_uri": "https://localhost:8080/"
        }
      },
      "id": "4I5QVS7-2-a6",
      "execution_count": 25,
      "outputs": [
        {
          "output_type": "stream",
          "name": "stdout",
          "text": [
            "dimension of train.csv (3000888, 6)\n",
            "==================================================\n",
            "\n",
            "   id        date  store_nbr      family  sales  onpromotion\n",
            "0   0  2013-01-01          1  AUTOMOTIVE    0.0            0\n",
            "1   1  2013-01-01          1   BABY CARE    0.0            0\n",
            "2   2  2013-01-01          1      BEAUTY    0.0            0\n",
            "3   3  2013-01-01          1   BEVERAGES    0.0            0\n",
            "4   4  2013-01-01          1       BOOKS    0.0            0\n",
            "==================================================\n",
            "\n",
            "<class 'pandas.core.frame.DataFrame'>\n",
            "RangeIndex: 3000888 entries, 0 to 3000887\n",
            "Data columns (total 6 columns):\n",
            " #   Column       Dtype  \n",
            "---  ------       -----  \n",
            " 0   id           int64  \n",
            " 1   date         object \n",
            " 2   store_nbr    int64  \n",
            " 3   family       object \n",
            " 4   sales        float64\n",
            " 5   onpromotion  int64  \n",
            "dtypes: float64(1), int64(3), object(2)\n",
            "memory usage: 137.4+ MB\n",
            "None\n",
            "==================================================\n",
            "\n",
            "                 id     store_nbr         sales   onpromotion\n",
            "count  3.000888e+06  3.000888e+06  3.000888e+06  3.000888e+06\n",
            "mean   1.500444e+06  2.750000e+01  3.577757e+02  2.602770e+00\n",
            "std    8.662819e+05  1.558579e+01  1.101998e+03  1.221888e+01\n",
            "min    0.000000e+00  1.000000e+00  0.000000e+00  0.000000e+00\n",
            "25%    7.502218e+05  1.400000e+01  0.000000e+00  0.000000e+00\n",
            "50%    1.500444e+06  2.750000e+01  1.100000e+01  0.000000e+00\n",
            "75%    2.250665e+06  4.100000e+01  1.958473e+02  0.000000e+00\n",
            "max    3.000887e+06  5.400000e+01  1.247170e+05  7.410000e+02\n",
            "==================================================\n"
          ]
        }
      ]
    },
    {
      "cell_type": "markdown",
      "source": [
        "Details of the test.csv"
      ],
      "metadata": {
        "id": "3Casj9wi32rS"
      },
      "id": "3Casj9wi32rS"
    },
    {
      "cell_type": "code",
      "source": [
        "test_df=pd.read_csv(\"/content/drive/MyDrive/data/test.csv\")\n",
        "details(test_df,\"test.csv\")\n"
      ],
      "metadata": {
        "id": "gcUukGBJ36Ez",
        "outputId": "8523c4d1-864c-42bc-9b12-0d8f542d9d81",
        "colab": {
          "base_uri": "https://localhost:8080/"
        }
      },
      "id": "gcUukGBJ36Ez",
      "execution_count": 26,
      "outputs": [
        {
          "output_type": "stream",
          "name": "stdout",
          "text": [
            "dimension of test.csv (28512, 5)\n",
            "==================================================\n",
            "\n",
            "        id        date  store_nbr      family  onpromotion\n",
            "0  3000888  2017-08-16          1  AUTOMOTIVE            0\n",
            "1  3000889  2017-08-16          1   BABY CARE            0\n",
            "2  3000890  2017-08-16          1      BEAUTY            2\n",
            "3  3000891  2017-08-16          1   BEVERAGES           20\n",
            "4  3000892  2017-08-16          1       BOOKS            0\n",
            "==================================================\n",
            "\n",
            "<class 'pandas.core.frame.DataFrame'>\n",
            "RangeIndex: 28512 entries, 0 to 28511\n",
            "Data columns (total 5 columns):\n",
            " #   Column       Non-Null Count  Dtype \n",
            "---  ------       --------------  ----- \n",
            " 0   id           28512 non-null  int64 \n",
            " 1   date         28512 non-null  object\n",
            " 2   store_nbr    28512 non-null  int64 \n",
            " 3   family       28512 non-null  object\n",
            " 4   onpromotion  28512 non-null  int64 \n",
            "dtypes: int64(3), object(2)\n",
            "memory usage: 1.1+ MB\n",
            "None\n",
            "==================================================\n",
            "\n",
            "                 id     store_nbr   onpromotion\n",
            "count  2.851200e+04  28512.000000  28512.000000\n",
            "mean   3.015144e+06     27.500000      6.965383\n",
            "std    8.230850e+03     15.586057     20.683952\n",
            "min    3.000888e+06      1.000000      0.000000\n",
            "25%    3.008016e+06     14.000000      0.000000\n",
            "50%    3.015144e+06     27.500000      0.000000\n",
            "75%    3.022271e+06     41.000000      6.000000\n",
            "max    3.029399e+06     54.000000    646.000000\n",
            "==================================================\n"
          ]
        }
      ]
    },
    {
      "cell_type": "markdown",
      "source": [
        "By looking upon the details we came to know that the datatype of date is object for exploitation the datatype should be changed to datetime\n",
        "There are some missing values in oil price in oil.csv missing values should be handled using backfill strategy"
      ],
      "metadata": {
        "id": "EWfgLQkw6ZUC"
      },
      "id": "EWfgLQkw6ZUC"
    }
  ],
  "metadata": {
    "kernelspec": {
      "display_name": "Python 3",
      "name": "python3"
    },
    "language_info": {
      "name": "python"
    },
    "required_libs": [],
    "colab": {
      "provenance": []
    }
  },
  "nbformat": 4,
  "nbformat_minor": 5
}