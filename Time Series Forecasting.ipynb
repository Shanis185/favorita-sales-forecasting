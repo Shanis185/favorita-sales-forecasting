{
  "cells": [
    {
      "cell_type": "markdown",
      "source": [
        "**TIME SERIES DATA FORECASTING FAVOURITA DATASET**\n"
      ],
      "metadata": {
        "id": "DA2Az5PpkSX5"
      },
      "id": "DA2Az5PpkSX5"
    },
    {
      "cell_type": "code",
      "source": [],
      "metadata": {
        "id": "MwhLJwfapulF"
      },
      "id": "MwhLJwfapulF",
      "execution_count": null,
      "outputs": []
    }
  ],
  "metadata": {
    "kernelspec": {
      "display_name": "Python 3",
      "name": "python3"
    },
    "language_info": {
      "name": "python"
    },
    "required_libs": [],
    "colab": {
      "provenance": []
    }
  },
  "nbformat": 4,
  "nbformat_minor": 5
}